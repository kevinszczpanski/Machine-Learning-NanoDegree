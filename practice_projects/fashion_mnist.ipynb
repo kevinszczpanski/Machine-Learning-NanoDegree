{
  "nbformat": 4,
  "nbformat_minor": 0,
  "metadata": {
    "colab": {
      "name": "fashion_mnist.ipynb",
      "version": "0.3.2",
      "views": {},
      "default_view": {},
      "provenance": [],
      "collapsed_sections": [
        "gPDATu1JC4hR",
        "NkSCnNd7C9OG",
        "WqCQgGZmDJWw",
        "qlB5YHcYDRDB"
      ],
      "toc_visible": true
    },
    "kernelspec": {
      "name": "python3",
      "display_name": "Python 3"
    },
    "accelerator": "GPU"
  },
  "cells": [
    {
      "metadata": {
        "id": "UKLCEnkx49F8",
        "colab_type": "text"
      },
      "cell_type": "markdown",
      "source": [
        "# FASHION MNIST MLP"
      ]
    },
    {
      "metadata": {
        "id": "gPDATu1JC4hR",
        "colab_type": "text"
      },
      "cell_type": "markdown",
      "source": [
        "## importando o dataset"
      ]
    },
    {
      "metadata": {
        "id": "2uKBfa7a48S2",
        "colab_type": "code",
        "colab": {
          "autoexec": {
            "startup": false,
            "wait_interval": 0
          }
        }
      },
      "cell_type": "code",
      "source": [
        "#baixa o dataset e divide entre treino e teste\n",
        "from keras.datasets import fashion_mnist\n",
        "\n",
        "(x_train,y_train),(x_test,y_test) = fashion_mnist.load_data()"
      ],
      "execution_count": 0,
      "outputs": []
    },
    {
      "metadata": {
        "id": "NkSCnNd7C9OG",
        "colab_type": "text"
      },
      "cell_type": "markdown",
      "source": [
        "## pre-processando os dados"
      ]
    },
    {
      "metadata": {
        "id": "uB4ivl92_8iN",
        "colab_type": "code",
        "colab": {
          "autoexec": {
            "startup": false,
            "wait_interval": 0
          }
        }
      },
      "cell_type": "code",
      "source": [
        "#realiza o pré-processing dos dados, reescalando os pixels para valores 0 a 1 e transformando a label de saída para one hot encoding\n",
        "from keras.utils import np_utils\n",
        "\n",
        "#Divide todos os pixels por 255, que é a amplitude máxima do algoritmo\n",
        "\n",
        "x_train = x_train.astype('float32')/255\n",
        "x_test = x_test.astype('float32')/255\n",
        "\n",
        "#transforma a variável de saída para one-hot encoding\n",
        "\n",
        "y_train = np_utils.to_categorical(y_train,10)\n",
        "y_test = np_utils.to_categorical(y_test,10)\n",
        "\n",
        "\n"
      ],
      "execution_count": 0,
      "outputs": []
    },
    {
      "metadata": {
        "id": "WqCQgGZmDJWw",
        "colab_type": "text"
      },
      "cell_type": "markdown",
      "source": [
        "## montando uma MLP"
      ]
    },
    {
      "metadata": {
        "id": "3JVBAukr5pCC",
        "colab_type": "code",
        "colab": {
          "autoexec": {
            "startup": false,
            "wait_interval": 0
          },
          "output_extras": [
            {
              "item_id": 1
            }
          ],
          "base_uri": "https://localhost:8080/",
          "height": 340
        },
        "outputId": "cb3aca78-294f-42a2-f423-5adee8311107",
        "executionInfo": {
          "status": "ok",
          "timestamp": 1522116469792,
          "user_tz": 180,
          "elapsed": 640,
          "user": {
            "displayName": "Leandro Humberto Vieira",
            "photoUrl": "//lh4.googleusercontent.com/-rkcwdX4Lzx0/AAAAAAAAAAI/AAAAAAAAAFw/R2po7sQboTk/s50-c-k-no/photo.jpg",
            "userId": "117062967422735822317"
          }
        }
      },
      "cell_type": "code",
      "source": [
        "from keras.models import Sequential\n",
        "from keras.layers import Dense, Flatten, Dropout\n",
        "\n",
        "\n",
        "model = Sequential()\n",
        "model.add(Flatten(input_shape=x_train.shape[1:]))\n",
        "model.add(Dense(512,activation='relu'))\n",
        "model.add(Dropout(0.2))\n",
        "model.add(Dense(512,activation='relu'))\n",
        "model.add(Dropout(0.2))\n",
        "model.add(Dense(10,activation='softmax'))\n",
        "model.summary()"
      ],
      "execution_count": 71,
      "outputs": [
        {
          "output_type": "stream",
          "text": [
            "_________________________________________________________________\n",
            "Layer (type)                 Output Shape              Param #   \n",
            "=================================================================\n",
            "flatten_12 (Flatten)         (None, 784)               0         \n",
            "_________________________________________________________________\n",
            "dense_29 (Dense)             (None, 512)               401920    \n",
            "_________________________________________________________________\n",
            "dropout_3 (Dropout)          (None, 512)               0         \n",
            "_________________________________________________________________\n",
            "dense_30 (Dense)             (None, 512)               262656    \n",
            "_________________________________________________________________\n",
            "dropout_4 (Dropout)          (None, 512)               0         \n",
            "_________________________________________________________________\n",
            "dense_31 (Dense)             (None, 10)                5130      \n",
            "=================================================================\n",
            "Total params: 669,706\n",
            "Trainable params: 669,706\n",
            "Non-trainable params: 0\n",
            "_________________________________________________________________\n"
          ],
          "name": "stdout"
        }
      ]
    },
    {
      "metadata": {
        "id": "a7TLvtDL9kch",
        "colab_type": "code",
        "colab": {
          "autoexec": {
            "startup": false,
            "wait_interval": 0
          }
        }
      },
      "cell_type": "code",
      "source": [
        "model.compile(loss='categorical_crossentropy', optimizer='rmsprop',metrics=['accuracy'])"
      ],
      "execution_count": 0,
      "outputs": []
    },
    {
      "metadata": {
        "id": "qlB5YHcYDRDB",
        "colab_type": "text"
      },
      "cell_type": "markdown",
      "source": [
        "## testando o modelo"
      ]
    },
    {
      "metadata": {
        "id": "RNo8LOEk-uX6",
        "colab_type": "code",
        "colab": {
          "autoexec": {
            "startup": false,
            "wait_interval": 0
          },
          "output_extras": [
            {
              "item_id": 1
            }
          ],
          "base_uri": "https://localhost:8080/",
          "height": 51
        },
        "outputId": "495518d4-5772-4cf1-c7f2-2ad8c6a366b4",
        "executionInfo": {
          "status": "ok",
          "timestamp": 1522116527209,
          "user_tz": 180,
          "elapsed": 5133,
          "user": {
            "displayName": "Leandro Humberto Vieira",
            "photoUrl": "//lh4.googleusercontent.com/-rkcwdX4Lzx0/AAAAAAAAAAI/AAAAAAAAAFw/R2po7sQboTk/s50-c-k-no/photo.jpg",
            "userId": "117062967422735822317"
          }
        }
      },
      "cell_type": "code",
      "source": [
        "score_training = model.evaluate(x_train, y_train,verbose=0)\n",
        "\n",
        "score_test = model.evaluate(x_test, y_test, verbose=0)\n",
        "\n",
        "\n",
        "\n",
        "print(score_training[1]*100)\n",
        "print(score_test[1]*100)\n"
      ],
      "execution_count": 74,
      "outputs": [
        {
          "output_type": "stream",
          "text": [
            "91.68833333333333\n",
            "88.22\n"
          ],
          "name": "stdout"
        }
      ]
    },
    {
      "metadata": {
        "id": "YghwOMflHLdg",
        "colab_type": "text"
      },
      "cell_type": "markdown",
      "source": [
        "## treinando um modelo"
      ]
    },
    {
      "metadata": {
        "id": "whH_mFznHKBF",
        "colab_type": "code",
        "colab": {
          "autoexec": {
            "startup": false,
            "wait_interval": 0
          },
          "output_extras": [
            {
              "item_id": 34
            },
            {
              "item_id": 67
            },
            {
              "item_id": 103
            },
            {
              "item_id": 117
            }
          ],
          "base_uri": "https://localhost:8080/",
          "height": 1414
        },
        "outputId": "b222e040-a6cf-47bd-a111-3f1b20460cfb",
        "executionInfo": {
          "status": "ok",
          "timestamp": 1522116514944,
          "user_tz": 180,
          "elapsed": 30555,
          "user": {
            "displayName": "Leandro Humberto Vieira",
            "photoUrl": "//lh4.googleusercontent.com/-rkcwdX4Lzx0/AAAAAAAAAAI/AAAAAAAAAFw/R2po7sQboTk/s50-c-k-no/photo.jpg",
            "userId": "117062967422735822317"
          }
        }
      },
      "cell_type": "code",
      "source": [
        "from keras.callbacks import ModelCheckpoint\n",
        "\n",
        "checkpointer = ModelCheckpoint(filepath='fashion', verbose=1, save_best_only=True)\n",
        "\n",
        "hist = model.fit(x_train, y_train, batch_size=256, epochs=20, validation_split=0.2, callbacks=[checkpointer], verbose=1, shuffle=True)"
      ],
      "execution_count": 73,
      "outputs": [
        {
          "output_type": "stream",
          "text": [
            "Train on 48000 samples, validate on 12000 samples\n",
            "Epoch 1/20\n",
            "48000/48000 [==============================] - 2s 35us/step - loss: 0.6581 - acc: 0.7608 - val_loss: 0.4768 - val_acc: 0.8219\n",
            "\n",
            "Epoch 00001: val_loss improved from inf to 0.47676, saving model to fashion\n",
            "Epoch 2/20\n",
            "48000/48000 [==============================] - 1s 29us/step - loss: 0.4368 - acc: 0.8378 - val_loss: 0.4404 - val_acc: 0.8433\n",
            "\n",
            "Epoch 00002: val_loss improved from 0.47676 to 0.44042, saving model to fashion\n",
            "Epoch 3/20\n",
            "48000/48000 [==============================] - 1s 31us/step - loss: 0.3854 - acc: 0.8581 - val_loss: 0.3720 - val_acc: 0.8641\n",
            "\n",
            "Epoch 00003: val_loss improved from 0.44042 to 0.37195, saving model to fashion\n",
            "Epoch 4/20\n",
            "48000/48000 [==============================] - 1s 30us/step - loss: 0.3511 - acc: 0.8706 - val_loss: 0.3641 - val_acc: 0.8649\n",
            "\n",
            "Epoch 00004: val_loss improved from 0.37195 to 0.36406, saving model to fashion\n",
            "Epoch 5/20\n",
            "48000/48000 [==============================] - 1s 31us/step - loss: 0.3306 - acc: 0.8765 - val_loss: 0.3579 - val_acc: 0.8727\n",
            "\n",
            "Epoch 00005: val_loss improved from 0.36406 to 0.35793, saving model to fashion\n",
            "Epoch 6/20\n",
            "34048/48000 [====================>.........] - ETA: 0s - loss: 0.3170 - acc: 0.8826"
          ],
          "name": "stdout"
        },
        {
          "output_type": "stream",
          "text": [
            "48000/48000 [==============================] - 1s 31us/step - loss: 0.3152 - acc: 0.8826 - val_loss: 0.3667 - val_acc: 0.8690\n",
            "\n",
            "Epoch 00006: val_loss did not improve\n",
            "Epoch 7/20\n",
            "48000/48000 [==============================] - 1s 31us/step - loss: 0.3021 - acc: 0.8868 - val_loss: 0.3229 - val_acc: 0.8892\n",
            "\n",
            "Epoch 00007: val_loss improved from 0.35793 to 0.32287, saving model to fashion\n",
            "Epoch 8/20\n",
            "48000/48000 [==============================] - 1s 30us/step - loss: 0.2907 - acc: 0.8911 - val_loss: 0.3559 - val_acc: 0.8747\n",
            "\n",
            "Epoch 00008: val_loss did not improve\n",
            "Epoch 9/20\n",
            "48000/48000 [==============================] - 1s 30us/step - loss: 0.2834 - acc: 0.8948 - val_loss: 0.3574 - val_acc: 0.8739\n",
            "\n",
            "Epoch 00009: val_loss did not improve\n",
            "Epoch 10/20\n",
            "48000/48000 [==============================] - 1s 31us/step - loss: 0.2737 - acc: 0.8984 - val_loss: 0.3340 - val_acc: 0.8835\n",
            "\n",
            "Epoch 00010: val_loss did not improve\n",
            "Epoch 11/20\n",
            "48000/48000 [==============================] - 1s 31us/step - loss: 0.2656 - acc: 0.9011 - val_loss: 0.3695 - val_acc: 0.8696\n",
            "\n",
            "Epoch 00011: val_loss did not improve\n",
            "Epoch 12/20\n",
            "22016/48000 [============>.................] - ETA: 0s - loss: 0.2571 - acc: 0.9028"
          ],
          "name": "stdout"
        },
        {
          "output_type": "stream",
          "text": [
            "48000/48000 [==============================] - 1s 30us/step - loss: 0.2564 - acc: 0.9040 - val_loss: 0.3384 - val_acc: 0.8896\n",
            "\n",
            "Epoch 00012: val_loss did not improve\n",
            "Epoch 13/20\n",
            "48000/48000 [==============================] - 1s 31us/step - loss: 0.2502 - acc: 0.9067 - val_loss: 0.3827 - val_acc: 0.8734\n",
            "\n",
            "Epoch 00013: val_loss did not improve\n",
            "Epoch 14/20\n",
            "48000/48000 [==============================] - 1s 31us/step - loss: 0.2448 - acc: 0.9088 - val_loss: 0.3409 - val_acc: 0.8920\n",
            "\n",
            "Epoch 00014: val_loss did not improve\n",
            "Epoch 15/20\n",
            "48000/48000 [==============================] - 1s 31us/step - loss: 0.2402 - acc: 0.9089 - val_loss: 0.3784 - val_acc: 0.8808\n",
            "\n",
            "Epoch 00015: val_loss did not improve\n",
            "Epoch 16/20\n",
            "48000/48000 [==============================] - 1s 31us/step - loss: 0.2341 - acc: 0.9104 - val_loss: 0.3441 - val_acc: 0.8910\n",
            "\n",
            "Epoch 00016: val_loss did not improve\n",
            "Epoch 17/20\n",
            "48000/48000 [==============================] - 1s 31us/step - loss: 0.2296 - acc: 0.9138 - val_loss: 0.3302 - val_acc: 0.8962\n",
            "\n",
            "Epoch 00017: val_loss did not improve\n",
            "Epoch 18/20\n",
            "28416/48000 [================>.............] - ETA: 0s - loss: 0.2253 - acc: 0.9171"
          ],
          "name": "stdout"
        },
        {
          "output_type": "stream",
          "text": [
            "48000/48000 [==============================] - 1s 31us/step - loss: 0.2263 - acc: 0.9153 - val_loss: 0.3582 - val_acc: 0.8878\n",
            "\n",
            "Epoch 00018: val_loss did not improve\n",
            "Epoch 19/20\n",
            "48000/48000 [==============================] - 1s 31us/step - loss: 0.2216 - acc: 0.9179 - val_loss: 0.4280 - val_acc: 0.8828\n",
            "\n",
            "Epoch 00019: val_loss did not improve\n",
            "Epoch 20/20\n",
            "48000/48000 [==============================] - 1s 30us/step - loss: 0.2178 - acc: 0.9187 - val_loss: 0.3735 - val_acc: 0.8881\n",
            "\n",
            "Epoch 00020: val_loss did not improve\n"
          ],
          "name": "stdout"
        }
      ]
    },
    {
      "metadata": {
        "id": "L-dqxn-AQ3mf",
        "colab_type": "text"
      },
      "cell_type": "markdown",
      "source": [
        "# FASHION MNIST CNN"
      ]
    },
    {
      "metadata": {
        "id": "Uzq8Xr0XRI2Z",
        "colab_type": "code",
        "colab": {
          "autoexec": {
            "startup": false,
            "wait_interval": 0
          }
        }
      },
      "cell_type": "code",
      "source": [
        "from keras.layers import Conv2D, Activation\n",
        "\n",
        "model2 = sequential()\n",
        "model2.add(Conv2D(32,(3,3),padding='same', input_shape=x_train.shape[1:]))\n",
        "model2.add(Activation('relu'))\n"
      ],
      "execution_count": 0,
      "outputs": []
    }
  ]
}